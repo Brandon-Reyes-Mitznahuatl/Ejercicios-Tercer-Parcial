{
  "nbformat": 4,
  "nbformat_minor": 0,
  "metadata": {
    "colab": {
      "name": "Ejercicios-Jacobi-Gauss.ipynb",
      "provenance": [],
      "collapsed_sections": []
    },
    "kernelspec": {
      "name": "python3",
      "display_name": "Python 3"
    }
  },
  "cells": [
    {
      "cell_type": "code",
      "metadata": {
        "colab": {
          "base_uri": "https://localhost:8080/",
          "height": 622
        },
        "id": "HwSriJtybJvU",
        "outputId": "ed921cda-1e21-4d78-9479-53427400cf98"
      },
      "source": [
        "#Reyes Mitznahuatl Brandon Jesus-Ejercicios Tercer Parcial\r\n",
        "#### Ejercicio 1 #####\r\n",
        "#Metodo Jacobi\r\n",
        "\r\n",
        "import matplotlib.pyplot as plt\r\n",
        "import math\r\n",
        "def sistemaEc():\r\n",
        "  x0=[0]\r\n",
        "  x=0\r\n",
        "  y0=[0]\r\n",
        "  y=0\r\n",
        "  z0=[0]\r\n",
        "  z=0\r\n",
        "\r\n",
        "  limit=0\r\n",
        "\r\n",
        "  def x1(y,z):\r\n",
        "    return  (-0.222-(0.222*y)+(0.11*z))\r\n",
        "  def y1(x,z):\r\n",
        "    return  (0.375-(0.875*x)+(0.625*z))\r\n",
        "  def z1(x,y):\r\n",
        "    return  (-0.6+(0.3*x)+(0.4*y))\r\n",
        " \r\n",
        "  while(limit <6):\r\n",
        "    \r\n",
        "    x_1 = x1(y,z)\r\n",
        "    x0.append(x_1)\r\n",
        "    y_2 = y1(x,z)\r\n",
        "    y0.append(y_2)\r\n",
        "    z_3 = z1(x,y)\r\n",
        "    z0.append(z_3)\r\n",
        "\r\n",
        "    x = x_1\r\n",
        "    y = y_2\r\n",
        "    z = z_3\r\n",
        "\r\n",
        "    limit+=1\r\n",
        "  \r\n",
        "  for x in x0:\r\n",
        "      print(\"Iteraciones X: \", x)\r\n",
        "  for y in y0:\r\n",
        "      print(\"Iteraciones y: \", y)\r\n",
        "  for z in z0:\r\n",
        "      print(\"Iteraciones z: \", z)\r\n",
        "\r\n",
        "\r\n",
        "  plt.plot(x0, label=\"x\")\r\n",
        "  plt.plot(y0, label=\"y\")\r\n",
        "  plt.plot(z0, label=\"z\")\r\n",
        "\r\n",
        "  plt.legend()\r\n",
        "  plt.show()\r\n",
        "\r\n",
        "sistemaEc()"
      ],
      "execution_count": 90,
      "outputs": [
        {
          "output_type": "stream",
          "text": [
            "Iteraciones X:  0\n",
            "Iteraciones X:  -0.222\n",
            "Iteraciones X:  -0.37125\n",
            "Iteraciones X:  -0.3219495\n",
            "Iteraciones X:  -0.3753913125\n",
            "Iteraciones X:  -0.33990399262500004\n",
            "Iteraciones X:  -0.369359300203125\n",
            "Iteraciones y:  0\n",
            "Iteraciones y:  0.375\n",
            "Iteraciones y:  0.19425000000000003\n",
            "Iteraciones y:  0.37696875000000013\n",
            "Iteraciones y:  0.2606589375\n",
            "Iteraciones y:  0.3623440546875\n",
            "Iteraciones y:  0.292194856828125\n",
            "Iteraciones z:  0\n",
            "Iteraciones z:  -0.6\n",
            "Iteraciones z:  -0.5166\n",
            "Iteraciones z:  -0.633675\n",
            "Iteraciones z:  -0.54579735\n",
            "Iteraciones z:  -0.6083538187499999\n",
            "Iteraciones z:  -0.5570335759124999\n"
          ],
          "name": "stdout"
        },
        {
          "output_type": "display_data",
          "data": {
            "image/png": "[encoded data removed]",
            "text/plain": [
              "<Figure size 432x288 with 1 Axes>"
            ]
          },
          "metadata": {
            "tags": [],
            "needs_background": "light"
          }
        }
      ]
    },
    {
      "cell_type": "code",
      "metadata": {
        "colab": {
          "base_uri": "https://localhost:8080/",
          "height": 622
        },
        "id": "FscV0EU9eNrM",
        "outputId": "ddfb71d1-de85-493e-ff5d-2714f7f80eaf"
      },
      "source": [
        "#### Ejercicio 1 #####\r\n",
        "#Metodo Jacobi\r\n",
        "\r\n",
        "import matplotlib.pyplot as plt\r\n",
        "import math\r\n",
        "def sistemaEc():\r\n",
        "  x0=[0]\r\n",
        "  x=0\r\n",
        "  y0=[0]\r\n",
        "  y=0\r\n",
        "  z0=[0]\r\n",
        "  z=0\r\n",
        "\r\n",
        "  limit=0\r\n",
        "\r\n",
        "  def x1(y,z):\r\n",
        "    return  (-0.2222-(0.222*y)+(0.11*z))\r\n",
        "  def y1(x,z):\r\n",
        "    return  (0.375-(0.875*x)-(0.625*z))\r\n",
        "  def z1(x,y):\r\n",
        "    return  (-0.6+(0.3*x)+(0.4*y))\r\n",
        " \r\n",
        "  while(limit <6):\r\n",
        "    \r\n",
        "    x = x1(y,z)\r\n",
        "    x0.append(x)\r\n",
        "    y = y1(x, z)\r\n",
        "    y0.append(y)\r\n",
        "    z = z1(x,y)\r\n",
        "    z0.append(z)\r\n",
        "\r\n",
        "    limit+=1\r\n",
        "  \r\n",
        "  for x in x0:\r\n",
        "      print(\"Iteraciones X: \", x)\r\n",
        "  for y in y0:\r\n",
        "      print(\"Iteraciones y: \", y)\r\n",
        "  for z in z0:\r\n",
        "      print(\"Iteraciones z: \", z)\r\n",
        "\r\n",
        "\r\n",
        "  plt.plot(x0, label=\"x\")\r\n",
        "  plt.plot(y0, label=\"y\")\r\n",
        "  plt.plot(z0, label=\"z\")\r\n",
        "\r\n",
        "  plt.legend()\r\n",
        "  plt.show()\r\n",
        "\r\n",
        "sistemaEc()"
      ],
      "execution_count": 89,
      "outputs": [
        {
          "output_type": "stream",
          "text": [
            "Iteraciones X:  0\n",
            "Iteraciones X:  -0.2222\n",
            "Iteraciones X:  -0.39689025\n",
            "Iteraciones X:  -0.4786895471875\n",
            "Iteraciones X:  -0.4809508218910156\n",
            "Iteraciones X:  -0.484217214560855\n",
            "Iteraciones X:  -0.4841112735693611\n",
            "Iteraciones y:  0\n",
            "Iteraciones y:  0.5694250000000001\n",
            "Iteraciones y:  0.99658521875\n",
            "Iteraciones y:  0.9941239709765626\n",
            "Iteraciones y:  1.0120552665081544\n",
            "Iteraciones y:  1.0108545252182748\n",
            "Iteraciones y:  1.0116744607987824\n",
            "Iteraciones z:  0\n",
            "Iteraciones z:  -0.43889\n",
            "Iteraciones z:  -0.3204329875\n",
            "Iteraciones z:  -0.34595727576562496\n",
            "Iteraciones z:  -0.33946313996404287\n",
            "Iteraciones z:  -0.34092335428094644\n",
            "Iteraciones z:  -0.34056359775129535\n"
          ],
          "name": "stdout"
        },
        {
          "output_type": "display_data",
          "data": {
            "image/png": "[encoded data removed]",
            "text/plain": [
              "<Figure size 432x288 with 1 Axes>"
            ]
          },
          "metadata": {
            "tags": [],
            "needs_background": "light"
          }
        }
      ]
    },
    {
      "cell_type": "code",
      "metadata": {
        "colab": {
          "base_uri": "https://localhost:8080/",
          "height": 506
        },
        "id": "nEcxqHM6hud1",
        "outputId": "93554717-8dcd-4e65-92aa-8877860613d3"
      },
      "source": [
        "#### Ejercicio 2 #####\r\n",
        "#Metodo Jacobi\r\n",
        "\r\n",
        "import matplotlib.pyplot as plt\r\n",
        "import math\r\n",
        "def sistemaEc():\r\n",
        "  x0=[0]\r\n",
        "  x=0\r\n",
        "  y0=[0]\r\n",
        "  y=0\r\n",
        "\r\n",
        "  limit=0\r\n",
        "\r\n",
        "  def x1(y):\r\n",
        "    return  (2.4-(0.4*y))\r\n",
        "  def y1(x):\r\n",
        "    return  (0.8+(0.1*x))\r\n",
        "\r\n",
        "  while(limit <6):\r\n",
        "    \r\n",
        "    x_1 = x1(y)\r\n",
        "    x0.append(x_1)\r\n",
        "    y_2 = y1(x)\r\n",
        "    y0.append(y_2)\r\n",
        "\r\n",
        "    x = x_1\r\n",
        "    y = y_2\r\n",
        "\r\n",
        "    limit+=1\r\n",
        "  \r\n",
        "  for x in x0:\r\n",
        "      print(\"Iteraciones X: \", x)\r\n",
        "  for y in y0:\r\n",
        "      print(\"Iteraciones y: \", y)\r\n",
        "\r\n",
        "\r\n",
        "  plt.plot(x0, label=\"x\")\r\n",
        "  plt.plot(y0, label=\"y\")\r\n",
        "\r\n",
        "  plt.legend()\r\n",
        "  plt.show()\r\n",
        "\r\n",
        "sistemaEc()"
      ],
      "execution_count": 77,
      "outputs": [
        {
          "output_type": "stream",
          "text": [
            "Iteraciones X:  0\n",
            "Iteraciones X:  2.4\n",
            "Iteraciones X:  2.08\n",
            "Iteraciones X:  1.984\n",
            "Iteraciones X:  1.9968\n",
            "Iteraciones X:  2.0006399999999998\n",
            "Iteraciones X:  2.000128\n",
            "Iteraciones y:  0\n",
            "Iteraciones y:  0.8\n",
            "Iteraciones y:  1.04\n",
            "Iteraciones y:  1.008\n",
            "Iteraciones y:  0.9984000000000001\n",
            "Iteraciones y:  0.99968\n",
            "Iteraciones y:  1.000064\n"
          ],
          "name": "stdout"
        },
        {
          "output_type": "display_data",
          "data": {
            "image/png": "[encoded data removed]",
            "text/plain": [
              "<Figure size 432x288 with 1 Axes>"
            ]
          },
          "metadata": {
            "tags": [],
            "needs_background": "light"
          }
        }
      ]
    },
    {
      "cell_type": "code",
      "metadata": {
        "colab": {
          "base_uri": "https://localhost:8080/",
          "height": 506
        },
        "id": "1yhiSCeRjFfH",
        "outputId": "63196e75-2061-4640-dd87-f6c4c3190e48"
      },
      "source": [
        "#### Ejercicio 2 #####\r\n",
        "#Metodo Gauss Seidel\r\n",
        "\r\n",
        "import matplotlib.pyplot as plt\r\n",
        "import math\r\n",
        "def sistemaEc():\r\n",
        "  x0=[0]\r\n",
        "  x=0\r\n",
        "  y0=[0]\r\n",
        "  y=0\r\n",
        "\r\n",
        "  limit=0\r\n",
        "\r\n",
        "  def x1(y):\r\n",
        "    return  (2.4-(0.4*y))\r\n",
        "  def y1(x):\r\n",
        "    return  (0.8+(0.1*x))\r\n",
        "\r\n",
        "  while(limit <6):\r\n",
        "    \r\n",
        "    x = x1(y)\r\n",
        "    x0.append(x)\r\n",
        "    y = y1(x)\r\n",
        "    y0.append(y)\r\n",
        "\r\n",
        "\r\n",
        "    limit+=1\r\n",
        "  \r\n",
        "  for x in x0:\r\n",
        "      print(\"Iteraciones X: \", x)\r\n",
        "  for y in y0:\r\n",
        "      print(\"Iteraciones y: \", y)\r\n",
        "\r\n",
        "\r\n",
        "  plt.plot(x0, label=\"x\")\r\n",
        "  plt.plot(y0, label=\"y\")\r\n",
        "\r\n",
        "  plt.legend()\r\n",
        "  plt.show()\r\n",
        "\r\n",
        "sistemaEc()"
      ],
      "execution_count": 78,
      "outputs": [
        {
          "output_type": "stream",
          "text": [
            "Iteraciones X:  0\n",
            "Iteraciones X:  2.4\n",
            "Iteraciones X:  1.984\n",
            "Iteraciones X:  2.0006399999999998\n",
            "Iteraciones X:  1.9999744\n",
            "Iteraciones X:  2.000001024\n",
            "Iteraciones X:  1.99999995904\n",
            "Iteraciones y:  0\n",
            "Iteraciones y:  1.04\n",
            "Iteraciones y:  0.9984000000000001\n",
            "Iteraciones y:  1.000064\n",
            "Iteraciones y:  0.99999744\n",
            "Iteraciones y:  1.0000001024\n",
            "Iteraciones y:  0.999999995904\n"
          ],
          "name": "stdout"
        },
        {
          "output_type": "display_data",
          "data": {
            "image/png": "[encoded data removed]",
            "text/plain": [
              "<Figure size 432x288 with 1 Axes>"
            ]
          },
          "metadata": {
            "tags": [],
            "needs_background": "light"
          }
        }
      ]
    },
    {
      "cell_type": "code",
      "metadata": {
        "colab": {
          "base_uri": "https://localhost:8080/",
          "height": 622
        },
        "id": "JUporlN4jph_",
        "outputId": "5cf92386-a56d-45f6-d149-dc8859048b91"
      },
      "source": [
        "#### Ejercicio 3 #####\r\n",
        "#Metodo Jacobi\r\n",
        "\r\n",
        "import matplotlib.pyplot as plt\r\n",
        "import math\r\n",
        "def sistemaEc():\r\n",
        "  x0=[0]\r\n",
        "  x=0\r\n",
        "  y0=[0]\r\n",
        "  y=0\r\n",
        "  z0=[0]\r\n",
        "  z=0\r\n",
        "\r\n",
        "  limit=0\r\n",
        "\r\n",
        "  def x1(y):\r\n",
        "    return  (0.5-(0.125*y))\r\n",
        "  def y1(x):\r\n",
        "    return  (0.6-(0.4*x))\r\n",
        "  def z1(z):\r\n",
        "    return  (0.75-(0.25*z))\r\n",
        " \r\n",
        "\r\n",
        "  while(limit <6):\r\n",
        "    \r\n",
        "    x_1 = x1(y)\r\n",
        "    x0.append(x_1)\r\n",
        "    y_2 = y1(x)\r\n",
        "    y0.append(y_2)\r\n",
        "    z_3 = z1(z)\r\n",
        "    z0.append(z_3)\r\n",
        "\r\n",
        "    x = x_1\r\n",
        "    y = y_2\r\n",
        "    z = z_3\r\n",
        "\r\n",
        "    limit+=1\r\n",
        "  \r\n",
        "  for x in x0:\r\n",
        "      print(\"Iteraciones X: \", x)\r\n",
        "  for y in y0:\r\n",
        "      print(\"Iteraciones y: \", y)\r\n",
        "  for z in z0:\r\n",
        "      print(\"Iteraciones z: \", z)\r\n",
        "\r\n",
        "\r\n",
        "  plt.plot(x0, label=\"x\")\r\n",
        "  plt.plot(y0, label=\"y\")\r\n",
        "  plt.plot(z0, label=\"z\")\r\n",
        "\r\n",
        "  plt.legend()\r\n",
        "  plt.show()\r\n",
        "\r\n",
        "sistemaEc()"
      ],
      "execution_count": 79,
      "outputs": [
        {
          "output_type": "stream",
          "text": [
            "Iteraciones X:  0\n",
            "Iteraciones X:  0.5\n",
            "Iteraciones X:  0.425\n",
            "Iteraciones X:  0.45\n",
            "Iteraciones X:  0.44625000000000004\n",
            "Iteraciones X:  0.4475\n",
            "Iteraciones X:  0.4473125\n",
            "Iteraciones y:  0\n",
            "Iteraciones y:  0.6\n",
            "Iteraciones y:  0.39999999999999997\n",
            "Iteraciones y:  0.42999999999999994\n",
            "Iteraciones y:  0.41999999999999993\n",
            "Iteraciones y:  0.4215\n",
            "Iteraciones y:  0.42099999999999993\n",
            "Iteraciones z:  0\n",
            "Iteraciones z:  0.75\n",
            "Iteraciones z:  0.5625\n",
            "Iteraciones z:  0.609375\n",
            "Iteraciones z:  0.59765625\n",
            "Iteraciones z:  0.6005859375\n",
            "Iteraciones z:  0.599853515625\n"
          ],
          "name": "stdout"
        },
        {
          "output_type": "display_data",
          "data": {
            "image/png": "[encoded data removed]",
            "text/plain": [
              "<Figure size 432x288 with 1 Axes>"
            ]
          },
          "metadata": {
            "tags": [],
            "needs_background": "light"
          }
        }
      ]
    },
    {
      "cell_type": "code",
      "metadata": {
        "colab": {
          "base_uri": "https://localhost:8080/",
          "height": 622
        },
        "id": "fZqSDfm5lNd8",
        "outputId": "9ef7f70a-9204-427b-8167-3838f4ad7313"
      },
      "source": [
        "#### Ejercicio 3 #####\r\n",
        "#Gauss Seidel\r\n",
        "\r\n",
        "import matplotlib.pyplot as plt\r\n",
        "import math\r\n",
        "def sistemaEc():\r\n",
        "  x0=[0]\r\n",
        "  x=0\r\n",
        "  y0=[0]\r\n",
        "  y=0\r\n",
        "  z0=[0]\r\n",
        "  z=0\r\n",
        "\r\n",
        "  limit=0\r\n",
        "\r\n",
        "  def x1(y):\r\n",
        "    return  (0.5-(0.125*y))\r\n",
        "  def y1(x):\r\n",
        "    return  (0.6-(0.4*x))\r\n",
        "  def z1(z):\r\n",
        "    return  (0.75-(0.25*z))\r\n",
        " \r\n",
        "\r\n",
        "  while(limit <6):\r\n",
        "    \r\n",
        "    x = x1(y)\r\n",
        "    x0.append(x)\r\n",
        "    y = y1(x)\r\n",
        "    y0.append(y)\r\n",
        "    z = z1(z)\r\n",
        "    z0.append(z)\r\n",
        "\r\n",
        "    limit+=1\r\n",
        "  \r\n",
        "  for x in x0:\r\n",
        "      print(\"Iteraciones X: \", x)\r\n",
        "  for y in y0:\r\n",
        "      print(\"Iteraciones y: \", y)\r\n",
        "  for z in z0:\r\n",
        "      print(\"Iteraciones z: \", z)\r\n",
        "\r\n",
        "\r\n",
        "  plt.plot(x0, label=\"x\")\r\n",
        "  plt.plot(y0, label=\"y\")\r\n",
        "  plt.plot(z0, label=\"z\")\r\n",
        "\r\n",
        "  plt.legend()\r\n",
        "  plt.show()\r\n",
        "\r\n",
        "sistemaEc()"
      ],
      "execution_count": 80,
      "outputs": [
        {
          "output_type": "stream",
          "text": [
            "Iteraciones X:  0\n",
            "Iteraciones X:  0.5\n",
            "Iteraciones X:  0.45\n",
            "Iteraciones X:  0.4475\n",
            "Iteraciones X:  0.447375\n",
            "Iteraciones X:  0.44736875\n",
            "Iteraciones X:  0.4473684375\n",
            "Iteraciones y:  0\n",
            "Iteraciones y:  0.39999999999999997\n",
            "Iteraciones y:  0.41999999999999993\n",
            "Iteraciones y:  0.42099999999999993\n",
            "Iteraciones y:  0.4210499999999999\n",
            "Iteraciones y:  0.42105249999999994\n",
            "Iteraciones y:  0.42105262499999996\n",
            "Iteraciones z:  0\n",
            "Iteraciones z:  0.75\n",
            "Iteraciones z:  0.5625\n",
            "Iteraciones z:  0.609375\n",
            "Iteraciones z:  0.59765625\n",
            "Iteraciones z:  0.6005859375\n",
            "Iteraciones z:  0.599853515625\n"
          ],
          "name": "stdout"
        },
        {
          "output_type": "display_data",
          "data": {
            "image/png": "[encoded data removed]",
            "text/plain": [
              "<Figure size 432x288 with 1 Axes>"
            ]
          },
          "metadata": {
            "tags": [],
            "needs_background": "light"
          }
        }
      ]
    },
    {
      "cell_type": "code",
      "metadata": {
        "colab": {
          "base_uri": "https://localhost:8080/",
          "height": 625
        },
        "id": "jhYwN1Uilymq",
        "outputId": "bec9289b-9e14-49b0-9b44-a11e11d43407"
      },
      "source": [
        "#### Ejercicio 4 #####\r\n",
        "#Metodo Jacobi\r\n",
        "\r\n",
        "import matplotlib.pyplot as plt\r\n",
        "import math\r\n",
        "def sistemaEc():\r\n",
        "  x0=[0]\r\n",
        "  x=0\r\n",
        "  y0=[0]\r\n",
        "  y=0\r\n",
        "  z0=[0]\r\n",
        "  z=0\r\n",
        "\r\n",
        "  limit=0\r\n",
        "\r\n",
        "  def x1(y,z):\r\n",
        "    return  (3.66-(0.333*y)-(0.166*z))\r\n",
        "  def y1(x,z):\r\n",
        "    return  (2.5+(0.125*x)-(0.25*z))\r\n",
        "  def z1(x,y):\r\n",
        "    return  (3.833-(0.166*x)-(0.166*y))\r\n",
        " \r\n",
        "\r\n",
        "  while(limit <6):\r\n",
        "    \r\n",
        "    x_1 = x1(y,z)\r\n",
        "    x0.append(x_1)\r\n",
        "    y_2 = y1(x,z)\r\n",
        "    y0.append(y_2)\r\n",
        "    z_3 = z1(x,y)\r\n",
        "    z0.append(z_3)\r\n",
        "\r\n",
        "    x = x_1\r\n",
        "    y = y_2\r\n",
        "    z = z_3\r\n",
        "\r\n",
        "    limit+=1\r\n",
        "  \r\n",
        "  for x in x0:\r\n",
        "      print(\"Iteraciones X: \", x)\r\n",
        "  for y in y0:\r\n",
        "      print(\"Iteraciones y: \", y)\r\n",
        "  for z in z0:\r\n",
        "      print(\"Iteraciones z: \", z)\r\n",
        "\r\n",
        "\r\n",
        "  plt.plot(x0, label=\"x\")\r\n",
        "  plt.plot(y0, label=\"y\")\r\n",
        "  plt.plot(z0, label=\"z\")\r\n",
        "\r\n",
        "  plt.legend()\r\n",
        "  plt.show()\r\n",
        "\r\n",
        "sistemaEc()"
      ],
      "execution_count": 84,
      "outputs": [
        {
          "output_type": "stream",
          "text": [
            "Iteraciones X:  0\n",
            "Iteraciones X:  3.66\n",
            "Iteraciones X:  2.1912220000000002\n",
            "Iteraciones X:  2.5277167100000004\n",
            "Iteraciones X:  2.4494541606820004\n",
            "Iteraciones X:  2.47392311882201\n",
            "Iteraciones X:  2.468285166215418\n",
            "Iteraciones y:  0\n",
            "Iteraciones y:  2.5\n",
            "Iteraciones y:  1.99925\n",
            "Iteraciones y:  2.07129275\n",
            "Iteraciones y:  2.03161917675\n",
            "Iteraciones y:  2.0387906626752503\n",
            "Iteraciones y:  2.0369549333561796\n",
            "Iteraciones z:  0\n",
            "Iteraciones z:  3.833\n",
            "Iteraciones z:  2.81044\n",
            "Iteraciones z:  3.137381648\n",
            "Iteraciones z:  3.0695644296399998\n",
            "Iteraciones z:  3.089141825986288\n",
            "Iteraciones z:  3.0838895122714547\n"
          ],
          "name": "stdout"
        },
        {
          "output_type": "display_data",
          "data": {
            "image/png": "[encoded data removed]",
            "text/plain": [
              "<Figure size 432x288 with 1 Axes>"
            ]
          },
          "metadata": {
            "tags": [],
            "needs_background": "light"
          }
        }
      ]
    },
    {
      "cell_type": "code",
      "metadata": {
        "colab": {
          "base_uri": "https://localhost:8080/",
          "height": 622
        },
        "id": "BjFTDaqxm2Mc",
        "outputId": "3ec73e6c-4e02-4739-f644-bbc23bd8f0d9"
      },
      "source": [
        "#### Ejercicio 4 #####\r\n",
        "#Metodo Guss Seidel\r\n",
        "\r\n",
        "import matplotlib.pyplot as plt\r\n",
        "import math\r\n",
        "def sistemaEc():\r\n",
        "  x0=[0]\r\n",
        "  x=0\r\n",
        "  y0=[0]\r\n",
        "  y=0\r\n",
        "  z0=[0]\r\n",
        "  z=0\r\n",
        "\r\n",
        "  limit=0\r\n",
        "\r\n",
        "  def x1(y,z):\r\n",
        "    return  (3.66-(0.333*y)-(0.166*z))\r\n",
        "  def y1(x,z):\r\n",
        "    return  (2.5+(0.125*x)-(0.25*z))\r\n",
        "  def z1(x,y):\r\n",
        "    return  (3.833-(0.166*x)-(0.166*y))\r\n",
        " \r\n",
        "\r\n",
        "  while(limit <6):\r\n",
        "    \r\n",
        "    x = x1(y,z)\r\n",
        "    x0.append(x)\r\n",
        "    y = y1(x,z)\r\n",
        "    y0.append(y)\r\n",
        "    z = z1(x,y)\r\n",
        "    z0.append(z)\r\n",
        "\r\n",
        "    limit+=1\r\n",
        "  \r\n",
        "  for x in x0:\r\n",
        "      print(\"Iteraciones X: \", x)\r\n",
        "  for y in y0:\r\n",
        "      print(\"Iteraciones y: \", y)\r\n",
        "  for z in z0:\r\n",
        "      print(\"Iteraciones z: \", z)\r\n",
        "\r\n",
        "\r\n",
        "  plt.plot(x0, label=\"x\")\r\n",
        "  plt.plot(y0, label=\"y\")\r\n",
        "  plt.plot(z0, label=\"z\")\r\n",
        "\r\n",
        "  plt.legend()\r\n",
        "  plt.show()\r\n",
        "\r\n",
        "sistemaEc()"
      ],
      "execution_count": 83,
      "outputs": [
        {
          "output_type": "stream",
          "text": [
            "Iteraciones X:  0\n",
            "Iteraciones X:  3.66\n",
            "Iteraciones X:  2.2212263300000004\n",
            "Iteraciones X:  2.445321353551915\n",
            "Iteraciones X:  2.472123532184157\n",
            "Iteraciones X:  2.4698541816725412\n",
            "Iteraciones X:  2.4694137216332117\n",
            "Iteraciones y:  0\n",
            "Iteraciones y:  2.9575\n",
            "Iteraciones y:  2.0940295412500003\n",
            "Iteraciones y:  2.026498287850864\n",
            "Iteraciones y:  2.0363459566412345\n",
            "Iteraciones y:  2.0375832564953216\n",
            "Iteraciones y:  2.0374853688881176\n",
            "Iteraciones z:  0\n",
            "Iteraciones z:  2.734495\n",
            "Iteraciones z:  3.1166675253725\n",
            "Iteraciones z:  3.090677939527139\n",
            "Iteraciones z:  3.084594064854985\n",
            "Iteraciones z:  3.0847653852641352\n",
            "Iteraciones z:  3.0848547509734594\n"
          ],
          "name": "stdout"
        },
        {
          "output_type": "display_data",
          "data": {
            "image/png": "[encoded data removed]",
            "text/plain": [
              "<Figure size 432x288 with 1 Axes>"
            ]
          },
          "metadata": {
            "tags": [],
            "needs_background": "light"
          }
        }
      ]
    }
  ]
}